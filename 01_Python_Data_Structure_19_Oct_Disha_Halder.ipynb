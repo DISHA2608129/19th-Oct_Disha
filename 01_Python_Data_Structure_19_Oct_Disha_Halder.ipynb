{
  "nbformat": 4,
  "nbformat_minor": 0,
  "metadata": {
    "colab": {
      "provenance": []
    },
    "kernelspec": {
      "name": "python3",
      "display_name": "Python 3"
    },
    "language_info": {
      "name": "python"
    }
  },
  "cells": [
    {
      "cell_type": "markdown",
      "source": [
        "Q 1. Discuss string slicing and provide examples."
      ],
      "metadata": {
        "id": "eyORLgvMizTo"
      }
    },
    {
      "cell_type": "markdown",
      "source": [
        "String slicing is a process in Python processes that allows programmer to access any slice or portion of a string. The syntax is:\n",
        "\n",
        "string[start:stop:step]\n",
        "start: The index from where slicing starts, known as inclusive.\n",
        "stop: The index where the end of a slice, is known as exclusive.\n",
        "step: How many characters to bypass, which is optional.\n",
        "When slicing, Python used zero-based indexing. In case a stop is missed, it runs until the string end. In case start is omitted, it defaults to the origin of the string, andThe step argument lets skip characters."
      ],
      "metadata": {
        "id": "nR2V1Wl1jCUE"
      }
    },
    {
      "cell_type": "code",
      "source": [
        "a = \"Bright, Future!\"\n",
        "\n",
        "# Slice 'Bright'\n",
        "print(a[0:5])\n",
        "\n",
        "# Slice 'Future'\n",
        "print(a[7:12])\n",
        "\n",
        "# Slice 'Bright, Future!' with a step of 2\n",
        "print(a[::2])\n",
        "\n",
        "# Reverse the string\n",
        "print(a[::-1])"
      ],
      "metadata": {
        "colab": {
          "base_uri": "https://localhost:8080/"
        },
        "id": "uyKeafyfjmKp",
        "outputId": "47dc3759-8b6a-4332-fbe1-d9e0a7a5d5f8"
      },
      "execution_count": 2,
      "outputs": [
        {
          "output_type": "stream",
          "name": "stdout",
          "text": [
            "Brigh\n",
            " Futu\n",
            "Bih,Ftr!\n",
            "!erutuF ,thgirB\n"
          ]
        }
      ]
    },
    {
      "cell_type": "markdown",
      "source": [
        "Q 2. Explain the key features of lists in Python"
      ],
      "metadata": {
        "id": "2AtQyVQ8kD6I"
      }
    },
    {
      "cell_type": "markdown",
      "source": [
        "Lists are adaptable, arranged  in Python that can include multiple objects in only one variable. Thus, lists have the following essential characteristics:\n",
        "\n",
        "Lists are mutable, meaning that elements can be added, removed, or changed after they are formed.\n",
        "\n",
        "Order: Items can be retreived by index positions, starting with 0, and are stored in the sequence in which they've been added.\n",
        "\n",
        "Heterogeneous data: Items of various data kinds, such as texts, numbers, and other lists, can be included in a list.\n",
        "\n",
        "Dynamic size: Lists have no set size and can grow or shrink as needed.\n",
        "\n",
        "Python comes with a number of built-in functions and methods for dealing with lists, including \"append(),\" \"remove(),\" \"pop(),\" \"sort(),\" and \"reverse().\"\n",
        "Slicing: Slicing notation makes subset manipulation easy by allowing access to particular portions of a list. Because of these features, lists are incredibly flexible and frequently employed in Python for managing gathering information.Lists are adaptable, ordered arrays in Python that can include multiple objects in a single variable. Thus, lists have the following essential characteristics:\n",
        "\n",
        "Lists are mutable, meaning that elements can be added, removed, or changed after they are formed.\n",
        "Order: Items can be retrieved by index positions, starting with 0, and are stored in the order in which they were added.\n",
        "Heterogeneous data: Items of various data kinds, such as texts, numbers, and other lists, can be included in a list.\n",
        "Dynamic size: Lists have no set size and can grow or shrink as needed.\n",
        "Python comes with a number of built-in functions and methods for working with lists, including \"append(),\" \"remove(),\" \"pop(),\" \"sort(),\" and \"reverse().\"\n",
        "Slicing: Slicing notation makes subset manipulation easy by allowing access to particular portions of a list. Because of these features, lists are incredibly flexible and frequently used in the Python for managing data collection."
      ],
      "metadata": {
        "id": "nVqhw9frkFCn"
      }
    },
    {
      "cell_type": "code",
      "source": [
        "my_list = [1, \"Women\", 4.3]  # heterogeneous list\n",
        "print(my_list[1])             # accessing via index: \"Women\"\n",
        "my_list.append(\"Beautiful\")      # adding an element\n",
        "my_list[0] = 10               # modifying an element\n",
        "print(my_list)                # [10, 'Women', 4.3, 'Orange']\n"
      ],
      "metadata": {
        "colab": {
          "base_uri": "https://localhost:8080/"
        },
        "id": "lUl08u9pk-g2",
        "outputId": "68a3791f-625e-4274-f951-e076571a8f57"
      },
      "execution_count": 3,
      "outputs": [
        {
          "output_type": "stream",
          "name": "stdout",
          "text": [
            "Women\n",
            "[10, 'Women', 4.3, 'Beautiful']\n"
          ]
        }
      ]
    },
    {
      "cell_type": "markdown",
      "source": [
        "Q 3. Describe how to access, modify, and delete elements in a list with examples."
      ],
      "metadata": {
        "id": "-pBOSCGqlKVu"
      }
    },
    {
      "cell_type": "markdown",
      "source": [
        "In Python programming, one can access delete andmodify elements in a list . Access elements using their index:"
      ],
      "metadata": {
        "id": "0dlImD7BlT6Z"
      }
    },
    {
      "cell_type": "code",
      "source": [
        "entire_list = [11, 22, 33, 44, 55]\n",
        "print(entire_list[1])"
      ],
      "metadata": {
        "colab": {
          "base_uri": "https://localhost:8080/"
        },
        "id": "VGPi7rfClZvg",
        "outputId": "a80b818a-0fd5-4a9d-ebdf-2b44bcfc01f9"
      },
      "execution_count": 4,
      "outputs": [
        {
          "output_type": "stream",
          "name": "stdout",
          "text": [
            "22\n"
          ]
        }
      ]
    },
    {
      "cell_type": "markdown",
      "source": [
        "Elements can be modified by using the index"
      ],
      "metadata": {
        "id": "dZMvtVbellPG"
      }
    },
    {
      "cell_type": "code",
      "source": [
        "entire_list[4] = 38\n",
        "print(entire_list)"
      ],
      "metadata": {
        "colab": {
          "base_uri": "https://localhost:8080/"
        },
        "id": "Twt7S9Y_lqSt",
        "outputId": "6f7bd266-aba2-4c7a-cee6-36b8caef4510"
      },
      "execution_count": 6,
      "outputs": [
        {
          "output_type": "stream",
          "name": "stdout",
          "text": [
            "[11, 22, 33, 44, 38]\n"
          ]
        }
      ]
    },
    {
      "cell_type": "markdown",
      "source": [
        "pop() removes and returns an element by index"
      ],
      "metadata": {
        "id": "AVhOj2TCl5_W"
      }
    },
    {
      "cell_type": "code",
      "source": [
        "entire_list.pop(1)\n",
        "print(entire_list)"
      ],
      "metadata": {
        "colab": {
          "base_uri": "https://localhost:8080/"
        },
        "id": "N-wirVyJl7cK",
        "outputId": "297e9e5a-a043-409b-f6ca-e8804751dd32"
      },
      "execution_count": 7,
      "outputs": [
        {
          "output_type": "stream",
          "name": "stdout",
          "text": [
            "[11, 33, 44, 38]\n"
          ]
        }
      ]
    },
    {
      "cell_type": "markdown",
      "source": [
        "Q 4. Compare and contrast tuples and lists with examples."
      ],
      "metadata": {
        "id": "oHqH9kiAmIxe"
      }
    },
    {
      "cell_type": "markdown",
      "source": [
        "Although lists and tuples are both used as sequential data structures in Python, they differ significantly.\n",
        "\n",
        "Mutability: Items in lists can be changed after they are constructed because they are mutable. Since the parts cannot be altered once stated, tuples are by nature immutable.\n",
        "\n",
        "Syntax: Square brackets are used in lists: '[]'. Parentheses are used with tuples: '()'.\n",
        "\n",
        "Use Cases: Lists, like a to-do list, are helpful for organizing things that may change over time. For fixed sets of things (like coordinates), tuples work best.\n",
        "\n",
        "Lists offer more flexibility, but tuples offer more security."
      ],
      "metadata": {
        "id": "4PTNsDH1mTgk"
      }
    },
    {
      "cell_type": "code",
      "source": [
        "# List example\n",
        "my_list = [4, 9, 8]\n",
        "my_list[1] = 4  # Modifying element\n",
        "print(my_list)\n",
        "\n",
        "# Tuple example\n",
        "my_tuple = (4, 9, 8)\n",
        "# my_tuple[1] = 10  # Uncommenting this will raise an error\n",
        "print(my_tuple)"
      ],
      "metadata": {
        "colab": {
          "base_uri": "https://localhost:8080/"
        },
        "id": "G_cY77jtmUk2",
        "outputId": "b97dc414-9aee-497b-8f15-7e4c37237c96"
      },
      "execution_count": 8,
      "outputs": [
        {
          "output_type": "stream",
          "name": "stdout",
          "text": [
            "[4, 4, 8]\n",
            "(4, 9, 8)\n"
          ]
        }
      ]
    },
    {
      "cell_type": "markdown",
      "source": [
        "Q 5. Describe the key features of sets and provide examples of their use."
      ],
      "metadata": {
        "id": "nbW7DZvenOsC"
      }
    },
    {
      "cell_type": "markdown",
      "source": [
        "Python sets are unordered collections of distinct items, meaning that each element may only appear once. For tasks requiring duplication removal, membership testing, or mathematical operations like intersection, union, and difference, sets can be useful.\n",
        "Essential Features: Unordered: A set's components do not follow a specific order\n",
        " Unique elements: No repetitions are allowed; Mutable: Items can be added and deleted, but they must be immutable (e.g., integers, strings, tuples)."
      ],
      "metadata": {
        "id": "D-RL7vKSnvpO"
      }
    },
    {
      "cell_type": "code",
      "source": [
        "# Creating a set\n",
        "my_set = {12, 13, 14, 15, 16, 17}\n",
        "\n",
        "# Adding an element\n",
        "my_set.add(7)\n",
        "print (my_set)\n",
        "\n",
        "# Removing duplicates from a list using a set\n",
        "my_list = [12, 13, 14, 14, 16, 17]\n",
        "unique_set = set(my_list)\n",
        "print (unique_set)\n",
        "# Performing set operations\n",
        "set_a = {12, 13, 14, 15}\n",
        "set_b = {15, 15, 16}\n",
        "union_set = set_a | set_b\n",
        "intersection_set = set_a & set_b\n",
        "print (union_set)\n",
        "print (intersection_set)"
      ],
      "metadata": {
        "colab": {
          "base_uri": "https://localhost:8080/"
        },
        "id": "ROKrlpXrn1a4",
        "outputId": "a476dc0d-2762-40da-ffe4-52c3a045a75a"
      },
      "execution_count": 9,
      "outputs": [
        {
          "output_type": "stream",
          "name": "stdout",
          "text": [
            "{16, 17, 7, 12, 13, 14, 15}\n",
            "{12, 13, 14, 16, 17}\n",
            "{16, 12, 13, 14, 15}\n",
            "{15}\n"
          ]
        }
      ]
    },
    {
      "cell_type": "markdown",
      "source": [
        "Q 6. Discuss the use cases of tuples and sets in Python programming."
      ],
      "metadata": {
        "id": "l0Bg7pcVoSNR"
      }
    },
    {
      "cell_type": "markdown",
      "source": [
        "Sets and tuples in Python have distinct purposes and are chosen based on the needs of the data:\n",
        "\n",
        "Tuples: Once created, tuples' contents cannot be changed because they are usually immutable. Because of this, they can be used to store fixed sets of items, such as configurations, coordinates, and the days of the weeks. They index stuff to maintain order. Because they may be hashed, tuples can be used as keys in dictionaries. Use Case: Preserving coordinates and other fixed data.Sets and tuples in Python have distinct purposes and are chosen based on the needs of the data:\n",
        "\n",
        "Tuples: Once created, tuples' contents cannot be changed because they are usually immutable. Because of this, they can be used to store fixed sets of items, such as configurations, coordinates, and the days of the week. tuples can be used as keys in dictionaries. Use Case: Preserving coordinates and other fixed data."
      ],
      "metadata": {
        "id": "kukKOKYioWai"
      }
    },
    {
      "cell_type": "code",
      "source": [
        "coords = (110, 120)\n",
        "print(coords[0])"
      ],
      "metadata": {
        "colab": {
          "base_uri": "https://localhost:8080/"
        },
        "id": "JAh6Fmn_pHul",
        "outputId": "57b2ef57-11c8-457f-ce8f-52bbb1820fd0"
      },
      "execution_count": 10,
      "outputs": [
        {
          "output_type": "stream",
          "name": "stdout",
          "text": [
            "110\n"
          ]
        }
      ]
    },
    {
      "cell_type": "markdown",
      "source": [
        "Sets are perfect for circumstances where duplicates need to be removed or quick membership checks are necessary because they are modifiable but only include unique components. Although sets lack indexing and are unordered, they do provide effective operations like intersections, differences and unions. Use Case: Verify membership or eliminate duplicates from a list."
      ],
      "metadata": {
        "id": "8vksq4hppWjW"
      }
    },
    {
      "cell_type": "code",
      "source": [
        "numbers = {\"44\", \"99\", \"55\", \"99\"}\n",
        "print(numbers)  #no duplicates"
      ],
      "metadata": {
        "colab": {
          "base_uri": "https://localhost:8080/"
        },
        "id": "lmOLg2oepc7H",
        "outputId": "bea45f01-e699-48e0-ad98-4410ca43c915"
      },
      "execution_count": 11,
      "outputs": [
        {
          "output_type": "stream",
          "name": "stdout",
          "text": [
            "{'99', '55', '44'}\n"
          ]
        }
      ]
    },
    {
      "cell_type": "markdown",
      "source": [
        "Q 7. Describe how to add, modify, and delete items in a dictionary with examples."
      ],
      "metadata": {
        "id": "YSCyHoiTpngN"
      }
    },
    {
      "cell_type": "markdown",
      "source": [
        "A Python dictionary is a collection of key-value pairs that facilitate efficient data management and storage for users. To add, edit, and remove items from a dictionary, follow these steps.\n",
        "\n",
        "Adding items: Give a key a value in order to add a new term-value pair. The key will be added if it doesn't already exist."
      ],
      "metadata": {
        "id": "KoRBGggOqDgA"
      }
    },
    {
      "cell_type": "code",
      "source": [
        "my_dict = {'name': 'disha', 'age': 23}\n",
        "my_dict['city'] = 'Mumbai'  # Adding a new key-value pair\n",
        "print(my_dict)"
      ],
      "metadata": {
        "colab": {
          "base_uri": "https://localhost:8080/"
        },
        "id": "B0iQNUwdqGHv",
        "outputId": "63e69244-9407-4a66-f9a9-769dcc566882"
      },
      "execution_count": 12,
      "outputs": [
        {
          "output_type": "stream",
          "name": "stdout",
          "text": [
            "{'name': 'disha', 'age': 23, 'city': 'Mumbai'}\n"
          ]
        }
      ]
    },
    {
      "cell_type": "markdown",
      "source": [
        "Modifying every items: To modify a value, needed to assign a new value to an existing key."
      ],
      "metadata": {
        "id": "_PmRTGu8qPNK"
      }
    },
    {
      "cell_type": "code",
      "source": [
        "my_dict['number'] = 110  # Modifying the value of the 'number' key\n",
        "print(my_dict)"
      ],
      "metadata": {
        "colab": {
          "base_uri": "https://localhost:8080/"
        },
        "id": "3djUPTlQqu8V",
        "outputId": "5197b954-cea9-4658-be12-f8b252d10c41"
      },
      "execution_count": 16,
      "outputs": [
        {
          "output_type": "stream",
          "name": "stdout",
          "text": [
            "{'name': 'disha', 'number': 110}\n"
          ]
        }
      ]
    },
    {
      "cell_type": "markdown",
      "source": [
        "Using the del keyword or the pop() method to eliminate a key-value pair."
      ],
      "metadata": {
        "id": "BFnXolusqcj_"
      }
    },
    {
      "cell_type": "code",
      "source": [
        "del my_dict['city']  # Deleting using del\n",
        "my_dict.pop('age')  # Deleting using pop()\n",
        "print(my_dict)"
      ],
      "metadata": {
        "colab": {
          "base_uri": "https://localhost:8080/"
        },
        "id": "59SVj4Kkqg3B",
        "outputId": "36b0394f-e718-496c-8ef9-abb3ce2d197e"
      },
      "execution_count": 15,
      "outputs": [
        {
          "output_type": "stream",
          "name": "stdout",
          "text": [
            "{'name': 'disha', 'number': 110}\n"
          ]
        }
      ]
    },
    {
      "cell_type": "markdown",
      "source": [
        "Q 8. Discuss the importance of dictionary keys being immutable and provide examples."
      ],
      "metadata": {
        "id": "GGU4oIvkq70A"
      }
    },
    {
      "cell_type": "markdown",
      "source": [
        "Python dictionary keys need to be immutable in order to preserve consistent hash values. Changing a key's value after it has been inserted could disrupt the dictionary's internal organization, which relies on hashing to retrieve information quickly. This issue is avoided by immutability, which maintains the structure of the dictionary.\n",
        "\n",
        "Texts, integers, and tuples are examples of immutable types that are commonly used as dictionary keys. Because of their fixed values, these types provide a constant hash for every key. Lists and dictionaries are examples of mutable types that cannot be used as keys because their content changes, affecting hash values and perhaps causing issues with lookup or retrieval. Because lists can be changed, using my_list as a key causes an error. Making keys unchangeable improves the efficiency of dictionaries."
      ],
      "metadata": {
        "id": "1KdUnv3SrHta"
      }
    },
    {
      "cell_type": "code",
      "source": [
        "# Using immutable keys\n",
        "my_dict = {\n",
        "    (1, 2): \"Point 1\",  # Tuple as a key\n",
        "    \"name\": \"Disha\",   # String as a key\n",
        "    34: \"Answer\"        # Integer as a key\n",
        "}\n",
        "\n",
        "print(my_dict[(1, 2)])\n",
        "print(my_dict[\"name\"])\n"
      ],
      "metadata": {
        "colab": {
          "base_uri": "https://localhost:8080/"
        },
        "id": "MH7nCmq9rJu5",
        "outputId": "513baf37-e53e-495d-f41b-5f45d358004b"
      },
      "execution_count": 17,
      "outputs": [
        {
          "output_type": "stream",
          "name": "stdout",
          "text": [
            "Point 1\n",
            "Disha\n"
          ]
        }
      ]
    },
    {
      "cell_type": "code",
      "source": [
        "# Attempting to use a list as a key will raise a TypeError\n",
        "try:\n",
        "    my_dict = {\n",
        "        [1, 2]: \"List as Key\"  # This will cause an error\n",
        "    }\n",
        "except TypeError as e:\n",
        "    print(e)  # Output: unhashable type: 'list'"
      ],
      "metadata": {
        "colab": {
          "base_uri": "https://localhost:8080/"
        },
        "id": "YherV2ZnrULz",
        "outputId": "0041d341-b467-4c30-992e-6e93caa360c2"
      },
      "execution_count": 18,
      "outputs": [
        {
          "output_type": "stream",
          "name": "stdout",
          "text": [
            "unhashable type: 'list'\n"
          ]
        }
      ]
    }
  ]
}